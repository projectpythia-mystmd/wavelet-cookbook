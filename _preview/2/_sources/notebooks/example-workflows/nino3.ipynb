{
 "cells": [
  {
   "cell_type": "markdown",
   "metadata": {},
   "source": [
    "<p align=\"center\">\n",
    "  <img src=\"https://www.climate.gov/sites/default/files/2023-06/ENSOblog_animation_SSTA_anom_weekly_2023_Jun.gif\" alt=\"Weekly Sea Surface Temperature Patterns from NOAA\" />\n",
    "</p>"
   ]
  },
  {
   "cell_type": "markdown",
   "metadata": {},
   "source": [
    "# Atmospheric Data: Nino 3 SST Index"
   ]
  },
  {
   "cell_type": "markdown",
   "metadata": {},
   "source": [
    "---"
   ]
  },
  {
   "cell_type": "markdown",
   "metadata": {},
   "source": [
    "## Overview\n",
    "Generating a wavelet power and phase spectrum from the time-series data [Nino 3 SST Index](https://psl.noaa.gov/gcos_wgsp/Timeseries/Nino3/)\n",
    "\n",
    "1. Prerequisties\n",
    "2. Background\n",
    "3. Download and Organize Nino 3 SST Data\n",
    "4. Wavelet Input Values\n",
    "5. PyWavelets\n",
    "6. Power Spectrum\n",
    "7. Phase Spectrum"
   ]
  },
  {
   "cell_type": "markdown",
   "metadata": {},
   "source": [
    "## Prerequisites\n",
    "| Concepts | Importance | Notes |\n",
    "| --- | --- | --- |\n",
    "| [Intro to Matplotlib](https://foundations.projectpythia.org/core/matplotlib/matplotlib-basics.html) | Necessary | Used to plot data |\n",
    "| [Intro to Pandas](https://foundations.projectpythia.org/core/pandas/pandas.html) | Necessary | Used to read in and organize data (in particular dataframes) |\n",
    "| [Intro to Numpy](https://foundations.projectpythia.org/core/numpy/numpy-basics.html)| Necessary | Used to work with large arrays |\n",
    "| [Intro to SciPy](https://docs.scipy.org/doc/scipy-1.13.1/tutorial/fft.html) | Helpful | Used to work with .wav files and built-in Fast Fourier Transform |\n",
    "\n",
    "- **Time to learn**: 45 minutes"
   ]
  },
  {
   "cell_type": "markdown",
   "metadata": {},
   "source": [
    "---"
   ]
  },
  {
   "cell_type": "markdown",
   "metadata": {},
   "source": [
    "## Background\n",
    "\n",
    "### What is an El Niño?\n",
    "\n",
    "[Learn more!](https://oceanservice.noaa.gov/facts/ninonina.html)\n",
    "\n",
    "### Wavelets and Atmospheric Data\n",
    "\n",
    "Weather is a great example of time-series data. Weather varies in cycles of temperature over weeks due to a huge number of variables. Wavelet analysis can be used to find patterns in temperature by analyzing both the temperature and the time when the temperature occurs."
   ]
  },
  {
   "cell_type": "markdown",
   "metadata": {},
   "source": [
    "## Imports"
   ]
  },
  {
   "cell_type": "code",
   "execution_count": null,
   "metadata": {},
   "outputs": [],
   "source": [
    "import geocat.datafiles as gcd              # accessing nino3 data file\n",
    "import xarray as xr                         # working with geocat-datafiles\n",
    "\n",
    "import numpy as np                          # working with arrays\n",
    "import pandas as pd                         # working with dataframes\n",
    "import matplotlib.pyplot as plt             # plot data\n",
    "\n",
    "import pywt                                 # PyWavelets"
   ]
  },
  {
   "cell_type": "markdown",
   "metadata": {},
   "source": [
    "## Download Nino 3 SST Data"
   ]
  },
  {
   "cell_type": "markdown",
   "metadata": {},
   "source": [
    "We will be downloading the `sst_nino3` data from [`geocat-datafiles`](https://github.com/NCAR/geocat-datafiles/tree/main/ascii_files)"
   ]
  },
  {
   "cell_type": "code",
   "execution_count": null,
   "metadata": {},
   "outputs": [],
   "source": [
    "nino3_data = gcd.get('ascii_files/sst_nino3.dat')\n",
    "nino3_data = np.loadtxt(nino3_data)"
   ]
  },
  {
   "cell_type": "markdown",
   "metadata": {},
   "source": [
    "## Plot and View Data\n",
    "\n",
    "Let's give the data a look! We have over a hundred years worth of temperature readings."
   ]
  },
  {
   "cell_type": "code",
   "execution_count": null,
   "metadata": {},
   "outputs": [],
   "source": [
    "fig, ax = plt.subplots(figsize=(8, 8))\n",
    "plt.title(\"El Niño Sea Surface Temperature\")\n",
    "plt.xlabel(\"Years (from 1871)\")\n",
    "plt.ylabel(\"Sea Surface Temparture Changes\")\n",
    "plt.plot(nino3_data)\n",
    "plt.show()"
   ]
  },
  {
   "cell_type": "markdown",
   "metadata": {},
   "source": [
    "### Update the X-Axis\n",
    "By default, the loaded data lists the year as time since 1871, we can add a new x-axis to view the years along the x-axis"
   ]
  },
  {
   "cell_type": "code",
   "execution_count": null,
   "metadata": {},
   "outputs": [],
   "source": [
    "# Convert default X-axis from time steps of 0-504 (0-len(nino3_data)) to Years\n",
    "dt = 0.25  # sampling period\n",
    "start_year = 1871\n",
    "end_year = 1871 + (len(nino3_data) * dt)\n",
    "x_tickrange = np.arange(start_year, end_year, dt)\n",
    "start = int(9 / dt)  # 36, starts the x-axis label at 1880 (9 years after start of data)\n",
    "display_nth = int(20 / dt)  # 80, display x-axis label every 20 years"
   ]
  },
  {
   "cell_type": "code",
   "execution_count": null,
   "metadata": {},
   "outputs": [],
   "source": [
    "fig, ax = plt.subplots(figsize=(8, 8))\n",
    "plt.title(\"El Niño Sea Surface Temperature\")\n",
    "plt.xlabel(\"Year\")\n",
    "plt.ylabel(\"Sea Surface Temparture Changes\")\n",
    "plt.xticks(range(len(x_tickrange))[start::display_nth], x_tickrange[start::display_nth]) # update x-axis\n",
    "plt.plot(nino3_data)\n",
    "plt.show()"
   ]
  },
  {
   "cell_type": "markdown",
   "metadata": {},
   "source": [
    "## Wavelet Input Values"
   ]
  },
  {
   "cell_type": "markdown",
   "metadata": {},
   "source": [
    "Wavelet inputs include:\n",
    "\n",
    "- x: Input time-series data (for example, the time and temperature data from nino3)\n",
    "- wavelet: mother wavelet name\n",
    "- dt: sampling period (time between each y-value)\n",
    "- s0: smallest scale\n",
    "- dj: spacing between each discrete scales\n",
    "- jtot: largest scale"
   ]
  },
  {
   "cell_type": "code",
   "execution_count": null,
   "metadata": {},
   "outputs": [],
   "source": [
    "dt = 0.25  # sampling period (time between each y-value)\n",
    "s0 = 0.25  # smallest scale\n",
    "dj = 0.25  # spacing between each discrete scales\n",
    "jtot = 64  # largest scale"
   ]
  },
  {
   "cell_type": "markdown",
   "metadata": {},
   "source": [
    "### Define Complex Morlet\n",
    "\n",
    "A complex Morlet allows us to define both the bandwidth and the center frequency that the Morlet wavelet will be built from to produce optimal results. \n",
    "\n",
    "[Here you can learn more about how `PyWavelets` configures Complex Morlet wavelets](https://pywavelets.readthedocs.io/en/latest/ref/cwt.html#wavelet-bandwidth-and-center-frequencies)\n",
    "\n",
    "Below you can see how changing the bandwidth and center frequency will change how the mother Complex Morlet wavelet's shape is formed. The shape of the wavelet will impact which frequencies it is sensitive to."
   ]
  },
  {
   "cell_type": "code",
   "execution_count": null,
   "metadata": {},
   "outputs": [],
   "source": [
    "wavelets = [f\"cmor{x:.1f}-{y:.1f}\" for x in [0.5, 1.5, 2.5] for y in [0.5, 1.0, 1.5]]\n",
    "fig, axs = plt.subplots(3, 3, figsize=(10, 10), sharex=True, sharey=True)\n",
    "for ax, wavelet in zip(axs.flatten(), wavelets):\n",
    "    [psi, x] = pywt.ContinuousWavelet(wavelet).wavefun(10)\n",
    "    ax.plot(x, np.real(psi), label=\"real\")\n",
    "    ax.plot(x, np.imag(psi), label=\"imag\")\n",
    "    ax.set_title(wavelet)\n",
    "    ax.set_xlim([-5, 5])\n",
    "    ax.set_ylim([-0.8, 1])\n",
    "ax.legend()\n",
    "plt.suptitle(\"Complex Morlet Wavelets with different center frequencies and bandwidths from PyWavelets\")\n",
    "plt.show()"
   ]
  },
  {
   "cell_type": "markdown",
   "metadata": {},
   "source": [
    "Changing the bandwidth and center frequency can be a useful tool to optimize how well the mother wavelet will be able to find frequencies in the data.\n",
    "\n",
    "Below you will see how different values for bandwidth and center frequency can lead to greater or poorer resolution of the same signal. "
   ]
  },
  {
   "cell_type": "code",
   "execution_count": null,
   "metadata": {},
   "outputs": [],
   "source": [
    "# Code below from: https://pywavelets.readthedocs.io/en/latest/ref/cwt.html\n",
    "\n",
    "def gaussian(x, x0, sigma):\n",
    "    return np.exp(-np.power((x - x0) / sigma, 2.0) / 2.0)\n",
    "\n",
    "\n",
    "def make_chirp(t, t0, a):\n",
    "    frequency = (a * (t + t0)) ** 2\n",
    "    chirp = np.sin(2 * np.pi * frequency * t)\n",
    "    return chirp, frequency\n",
    "\n",
    "\n",
    "def plot_wavelet(time, data, wavelet, title, ax):\n",
    "    widths = np.geomspace(1, 1024, num=75)\n",
    "    cwtmatr, freqs = pywt.cwt(\n",
    "        data, widths, wavelet, sampling_period=np.diff(time).mean()\n",
    "    )\n",
    "    cwtmatr = np.abs(cwtmatr[:-1, :-1])\n",
    "    pcm = ax.pcolormesh(time, freqs, cwtmatr)\n",
    "    ax.set_yscale(\"log\")\n",
    "    ax.set_xlabel(\"Time (s)\")\n",
    "    ax.set_ylabel(\"Frequency (Hz)\")\n",
    "    ax.set_title(title)\n",
    "    plt.colorbar(pcm, ax=ax)\n",
    "    return ax\n",
    "\n",
    "# generate signal\n",
    "time = np.linspace(0, 1, 1000)\n",
    "chirp1, frequency1 = make_chirp(time, 0.2, 9)\n",
    "chirp2, frequency2 = make_chirp(time, 0.1, 5)\n",
    "chirp = chirp1 + 0.6 * chirp2\n",
    "chirp *= gaussian(time, 0.5, 0.2)\n",
    "\n",
    "# perform CWT with different wavelets on same signal and plot results\n",
    "wavelets = [f\"cmor{x:.1f}-{y:.1f}\" for x in [0.5, 1.5, 2.5] for y in [0.5, 1.0, 1.5]]\n",
    "fig, axs = plt.subplots(3, 3, figsize=(10, 10), sharex=True)\n",
    "for ax, wavelet in zip(axs.flatten(), wavelets):\n",
    "    plot_wavelet(time, chirp, wavelet, wavelet, ax)\n",
    "plt.tight_layout(rect=[0, 0.03, 1, 0.95])\n",
    "plt.suptitle(\"Scalograms of the same signal with different wavelets\")\n",
    "plt.show()"
   ]
  },
  {
   "cell_type": "markdown",
   "metadata": {},
   "source": [
    "**For this example, we will be using a complex Morlet with a bandwidth of 1.5 and a center frequency of 1**"
   ]
  },
  {
   "cell_type": "code",
   "execution_count": null,
   "metadata": {},
   "outputs": [],
   "source": [
    "bandwidth = 1.5\n",
    "center_freq = 1\n",
    "wavelet_mother = f\"cmor{bandwidth}-{center_freq}\"\n",
    "print(wavelet_mother)"
   ]
  },
  {
   "cell_type": "markdown",
   "metadata": {},
   "source": [
    "## Applying Wavelets"
   ]
  },
  {
   "cell_type": "code",
   "execution_count": null,
   "metadata": {},
   "outputs": [],
   "source": [
    "scales = np.arange(1, jtot + 1, dj)\n",
    "wavelet_coeffs, freqs = pywt.cwt(\n",
    "    data=nino3_data, scales=scales, wavelet=wavelet_mother, sampling_period=dt\n",
    ")"
   ]
  },
  {
   "cell_type": "markdown",
   "metadata": {},
   "source": [
    "## Power Spectrum\n",
    "The power spectrum is the real component of the wavelet coefficients. We can find this value by squaring the absolute value of the `wavelet_coeffs` to return the magnitude of the real component to make a better graph."
   ]
  },
  {
   "cell_type": "code",
   "execution_count": null,
   "metadata": {},
   "outputs": [],
   "source": [
    "power = np.power((abs(wavelet_coeffs)), 2)"
   ]
  },
  {
   "cell_type": "code",
   "execution_count": null,
   "metadata": {},
   "outputs": [],
   "source": [
    "fig, ax = plt.subplots(figsize=(10, 10))\n",
    "\n",
    "# Plot contour around data\n",
    "plt.contour(\n",
    "    power, vmax=(power).max(), vmin=(power).min(), levels=10\n",
    ")\n",
    "plt.contour(power, levels=10, colors=\"k\", linewidths=0.5, alpha=0.75)\n",
    "\n",
    "# Plot Scalogram\n",
    "plt.imshow(\n",
    "    power, vmax=(power).max(), vmin=(power).min(), aspect=\"auto\"\n",
    ")\n",
    "\n",
    "plt.xticks(range(len(x_tickrange))[start::display_nth], x_tickrange[start::display_nth])\n",
    "plt.title(\"El Niño Wavelet Power Spectrum\")\n",
    "plt.xlabel(\"Year\")\n",
    "plt.ylabel(\"Scale\")\n",
    "plt.colorbar()\n",
    "plt.show()"
   ]
  },
  {
   "cell_type": "markdown",
   "metadata": {},
   "source": [
    "The power spectrum above demonstrates a strong peak (in yellow) at 50 that represents an interesting consistent pattern across the decades of atmosphere data."
   ]
  },
  {
   "cell_type": "markdown",
   "metadata": {},
   "source": [
    "## Phase Spectrum\n",
    "\n",
    "While less commonly used, the phase spectrum is the imaginary component of the wavelet."
   ]
  },
  {
   "cell_type": "code",
   "execution_count": null,
   "metadata": {},
   "outputs": [],
   "source": [
    "# compare the phase spectrum\n",
    "phase = np.angle(wavelet_coeffs)"
   ]
  },
  {
   "cell_type": "code",
   "execution_count": null,
   "metadata": {},
   "outputs": [],
   "source": [
    "fig, ax = plt.subplots(figsize=(10, 10))\n",
    "\n",
    "# Convert Y-Axis from default to symmetrical log (symlog) with labels\n",
    "ax.set_yscale(\"symlog\")\n",
    "ax.invert_yaxis()\n",
    "ax.set_yticks([10, 20, 30, 40, 50])\n",
    "ax.set_yticklabels([10, 20, 30, 40, 50])\n",
    "\n",
    "# Plot scalogram\n",
    "plt.imshow(\n",
    "    phase, vmax=(phase).max(), vmin=(phase).min(), aspect=\"auto\"\n",
    ")\n",
    "\n",
    "# Convert default X-axis from time steps of 0-504 (0-len(sst_data)) to Years\n",
    "start_year = 1871\n",
    "end_year = 1871 + (len(nino3_data) * dt)\n",
    "x_tickrange = np.arange(start_year, end_year, dt)\n",
    "start = int(9 / dt)  # 36, starts the x-axis label at 1880 (9 years after start of data)\n",
    "display_nth = int(20 / dt)  # 80, display x-axis label every 20 years\n",
    "plt.xticks(range(len(x_tickrange))[start::display_nth], x_tickrange[start::display_nth])\n",
    "\n",
    "plt.title(\"El Niño Wavelet Phase Spectrum\")\n",
    "plt.xlabel(\"Year\")\n",
    "plt.ylabel(\"Scale\")\n",
    "plt.colorbar()\n",
    "plt.show()"
   ]
  },
  {
   "cell_type": "markdown",
   "metadata": {},
   "source": [
    "---"
   ]
  },
  {
   "cell_type": "markdown",
   "metadata": {},
   "source": [
    "## Summary\n",
    "Frequency signals appear in more than just audio! A frequency analysis of weather data can inform us about how weather trends change through a year and over a decades worth of data.\n",
    "\n",
    "### What's next?\n",
    "\n",
    "- [Learn how more about PyWavelets](https://pywavelets.readthedocs.io/en/latest/regression/index.html)\n"
   ]
  },
  {
   "cell_type": "markdown",
   "metadata": {},
   "source": [
    "## Resources and references\n",
    "\n",
    "- [\"A Practical Guide to Wavelet Analysis\" (Torrence and Compo, 1998)](https://psl.noaa.gov/people/gilbert.p.compo/Torrence_compo1998.pdf)"
   ]
  }
 ],
 "metadata": {
  "kernelspec": {
   "display_name": "Python 3 (ipykernel)",
   "language": "python",
   "name": "python3"
  },
  "language_info": {
   "codemirror_mode": {
    "name": "ipython",
    "version": 3
   },
   "file_extension": ".py",
   "mimetype": "text/x-python",
   "name": "python",
   "nbconvert_exporter": "python",
   "pygments_lexer": "ipython3",
   "version": "3.13.1"
  },
  "nbdime-conflicts": {
   "local_diff": [
    {
     "diff": [
      {
       "diff": [
        {
         "key": 0,
         "op": "addrange",
         "valuelist": [
          "Python 3"
         ]
        },
        {
         "key": 0,
         "length": 1,
         "op": "removerange"
        }
       ],
       "key": "display_name",
       "op": "patch"
      }
     ],
     "key": "kernelspec",
     "op": "patch"
    }
   ],
   "remote_diff": [
    {
     "diff": [
      {
       "diff": [
        {
         "key": 0,
         "op": "addrange",
         "valuelist": [
          "Python3"
         ]
        },
        {
         "key": 0,
         "length": 1,
         "op": "removerange"
        }
       ],
       "key": "display_name",
       "op": "patch"
      }
     ],
     "key": "kernelspec",
     "op": "patch"
    }
   ]
  },
  "toc-autonumbering": false
 },
 "nbformat": 4,
 "nbformat_minor": 4
}
